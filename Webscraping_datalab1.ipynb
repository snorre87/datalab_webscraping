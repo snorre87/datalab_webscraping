{
 "cells": [
  {
   "cell_type": "code",
   "execution_count": 2,
   "metadata": {},
   "outputs": [
    {
     "data": {
      "text/plain": [
       "{'theme': 'sky',\n",
       " 'transition': 'zoom',\n",
       " 'start_slideshow_at': 'selected',\n",
       " 'scroll': 'true',\n",
       " 'enable_chalkboard': 'true',\n",
       " 'width': '110%',\n",
       " 'height': '110%'}"
      ]
     },
     "execution_count": 2,
     "metadata": {},
     "output_type": "execute_result"
    }
   ],
   "source": [
    "from traitlets.config.manager import BaseJSONConfigManager\n",
    "from pathlib import Path\n",
    "path = Path.home() / \".jupyter\" / \"nbconfig\"\n",
    "cm = BaseJSONConfigManager(config_dir=str(path))\n",
    "cm.update(\n",
    "    \"rise\",\n",
    "    {\n",
    "        \"theme\": \"sky\",\n",
    "        \"enable_chalkboard\": \"true\",\n",
    "        \"scroll\": \"true\",\n",
    "        \"transition\": \"zoom\",\n",
    "        \"start_slideshow_at\": \"selected\",\n",
    "        \"width\": \"110%\", # change this to make it work for presentation.\n",
    "          \"height\": \"110%\"\n",
    "     }\n",
    ")"
   ]
  },
  {
   "cell_type": "markdown",
   "metadata": {
    "slideshow": {
     "slide_type": "slide"
    }
   },
   "source": [
    "## Webscraping with Python - Data Collection\n",
    "### Social Sciences Datalab, 31. august 2021\n",
    "#### Snorre Ralund, PhD, Data Steward\n"
   ]
  },
  {
   "cell_type": "markdown",
   "metadata": {
    "slideshow": {
     "slide_type": "slide"
    }
   },
   "source": [
    "**Program for today**\n",
    "\n",
    "- Setting up google colab and worshop ressources.\n",
    "- Presentation\n",
    "- Exercises and project work (own project)\n",
    "\n",
    "**Content**\n",
    "- Unstructured data collection\n",
    "- Automated Navigation and Download of websites.\n",
    "- APIs\n",
    "- Parsing / Extracting information from HTML\n",
    "- Hands on practice and practical tricks. "
   ]
  },
  {
   "cell_type": "markdown",
   "metadata": {
    "slideshow": {
     "slide_type": "slide"
    }
   },
   "source": [
    "\n",
    "<table><tr><td><img src='html_ex.png' style=\"width: 400px;\"></td><td><img src='dataframe.png' style=\"width: 400px;\"></td></tr></table>"
   ]
  },
  {
   "cell_type": "markdown",
   "metadata": {
    "slideshow": {
     "slide_type": "subslide"
    }
   },
   "source": [
    "## Motivation\n",
    "<table><tr><td><img src='https://i.imgflip.com/2fg9un.jpg' style=\"width: 400px;\"></td><td><img src='http://bigdataanalyticsnews.com/wp-content/uploads/2013/11/big-data.png' style=\"width: 400px;\"></td></tr></table>"
   ]
  },
  {
   "cell_type": "markdown",
   "metadata": {
    "slideshow": {
     "slide_type": "subslide"
    }
   },
   "source": [
    "Getting information and data on a subject of interest is no longer reduced to *tedious* survey designs, and *expensive* collections, *time consuming* interviews and *standardized* register data. \n",
    "\n",
    "This session will teach you how to harvest some of the billions of data points being generated and shared on the internet everyday.\n",
    "\n",
    "**Scraping skills allow you to:** \n",
    "- Single handedly create powerful datasets.\n",
    "- Pose new questions that was very expensive or impossible with existing data sources."
   ]
  },
  {
   "cell_type": "markdown",
   "metadata": {
    "slideshow": {
     "slide_type": "slide"
    }
   },
   "source": [
    "![](overview_images/jobexample.png)"
   ]
  },
  {
   "cell_type": "markdown",
   "metadata": {
    "slideshow": {
     "slide_type": "slide"
    }
   },
   "source": [
    "![](overview_images/jobexample2.png)"
   ]
  },
  {
   "cell_type": "markdown",
   "metadata": {
    "slideshow": {
     "slide_type": "slide"
    }
   },
   "source": [
    "![](overview_images/jobexample3.png)"
   ]
  },
  {
   "cell_type": "markdown",
   "metadata": {
    "slideshow": {
     "slide_type": "slide"
    }
   },
   "source": [
    "## Agenda\n",
    "**Collecting raw data** (*Tomorrow we shall focus on parsing and cleaning*)\n",
    "\n",
    "* The basics of webscraping\n",
    "    * Connecting, Navigating, Crawling, Parsing,Storing, Logging.\n",
    "* Hands-on examples.\n",
    "* Ethical and Legal issues around scraping publicly available data.\n",
    "* Hacks: Backdoors, url construction and analyzing webpages.\n",
    "* Reliability of your data collection!"
   ]
  },
  {
   "cell_type": "markdown",
   "metadata": {
    "slideshow": {
     "slide_type": "subslide"
    }
   },
   "source": [
    "**Main take-aways**\n",
    "- Utilize the data sources around you. Combine them to reach new potentials. \n",
    "- Knowing how to build your own custom datasets from web sources, without having to spend a month manually curating the data.\n",
    "- Get to know some of the most valuable tricks, \n",
    "- And instructions on how to Handle with care."
   ]
  },
  {
   "cell_type": "markdown",
   "metadata": {
    "slideshow": {
     "slide_type": "subslide"
    }
   },
   "source": [
    "<img src=\"https://github.com/snorreralund/images/raw/master/Sk%C3%A6rmbillede%202017-08-03%2014.46.32.png\"/>"
   ]
  },
  {
   "cell_type": "markdown",
   "metadata": {
    "slideshow": {
     "slide_type": "slide"
    }
   },
   "source": [
    "# quick 101"
   ]
  },
  {
   "cell_type": "markdown",
   "metadata": {
    "slideshow": {
     "slide_type": "subslide"
    }
   },
   "source": [
    "![](overview_images/1.png)"
   ]
  },
  {
   "cell_type": "markdown",
   "metadata": {
    "slideshow": {
     "slide_type": "subslide"
    }
   },
   "source": [
    "![](overview_images/2.png)\n"
   ]
  },
  {
   "cell_type": "markdown",
   "metadata": {
    "slideshow": {
     "slide_type": "subslide"
    }
   },
   "source": [
    "![](overview_images/3.png)"
   ]
  },
  {
   "cell_type": "markdown",
   "metadata": {
    "slideshow": {
     "slide_type": "subslide"
    }
   },
   "source": [
    "<img src=overview_images/2.png style=\"width:500px;\" />\n",
    "\n",
    "To scrape information from the web is:\n",
    "\n",
    "\t    1. MAPPING: Finding URLs of the pages containing the information you want.\n",
    "\t    2. DOWNLOAD: Fetching the pages via HTTP.\n",
    "\t    3. PARSE: Extracting the information from HTML.\n",
    "\t    4. REPEAT: Finding more URL containing what you want, go back to 2.\n",
    "\n",
    "**Crawling** is when your collection spans unknown domains and is generally much harder."
   ]
  },
  {
   "cell_type": "markdown",
   "metadata": {
    "slideshow": {
     "slide_type": "subslide"
    }
   },
   "source": [
    "### Packages used\n",
    "Today we will mainly build on the python skills you have gotten so far, and tomorrow we will look into more specialized packages.\n",
    "\n",
    "* for connecting to the internet we use: **requests**\n",
    "* for parsing: **beautifulsoup** and **regex**\n",
    "* for automatic browsing / screen scraping (not covered in detail here): **selenium** \n",
    "* for behaving responsibly we use: **time** and ***our minds***\n",
    "\n",
    "We will write our scrapers with basic python, for larger projects consider looking into the packages **scrapy** or **pyspider**"
   ]
  },
  {
   "cell_type": "code",
   "execution_count": 3,
   "metadata": {
    "slideshow": {
     "slide_type": "subslide"
    }
   },
   "outputs": [],
   "source": [
    "import requests, re, time\n",
    "from bs4 import BeautifulSoup"
   ]
  },
  {
   "cell_type": "markdown",
   "metadata": {
    "slideshow": {
     "slide_type": "slide"
    }
   },
   "source": [
    "## Connecting to the Internet"
   ]
  },
  {
   "cell_type": "code",
   "execution_count": 5,
   "metadata": {
    "slideshow": {
     "slide_type": "fragment"
    }
   },
   "outputs": [],
   "source": [
    "import requests\n",
    "response = requests.get('https://www.google.com')\n",
    "#response.text\n",
    "#response.text"
   ]
  },
  {
   "cell_type": "markdown",
   "metadata": {
    "slideshow": {
     "slide_type": "subslide"
    }
   },
   "source": [
    "**Connecting to the internet**\n",
    "**HTTP**\n",
    "\n",
    "*URL* : the adressline in our browser.\n",
    "\n",
    "Via HTTP we send a **get** request to an *address* with *instructions* ( - or rather our dns service provider redirects our request to the right address)\n",
    "\n",
    "*Address / Domain*: www.google.com\n",
    "\n",
    "*Instructions*: /trends?query=social+data+science\n",
    "\n",
    "*Header*: information send along with the request, including user agent (operating system, browser), cookies, and prefered encoding.\n",
    "\n",
    "*HTML*: HyperTextMarkupLanguage the language of displaying web content. More on this tomorrow.\n",
    "\n"
   ]
  },
  {
   "cell_type": "markdown",
   "metadata": {
    "slideshow": {
     "slide_type": "slide"
    }
   },
   "source": [
    "## Reliability and data quality issues: A first primer\n",
    "- You are in charge of the data quality!\n",
    "\n",
    "- **Everything** can go wrong. \n",
    "    - **Program** errors.\n",
    "    - Connection errors\n",
    "    - Domain wants to avoid scrapers and change the behavior of the site. \n",
    "    - Parsing errors.\n",
    "    \n",
    "You will be graded based on your ability to document your data collection and your **critical** and **informed** inspection of data quality based on logs.\n"
   ]
  },
  {
   "cell_type": "code",
   "execution_count": 6,
   "metadata": {
    "collapsed": true,
    "slideshow": {
     "slide_type": "slide"
    }
   },
   "outputs": [],
   "source": [
    "import requests,os,time\n",
    "def ratelimit():\n",
    "    \"A function that handles the rate of your calls.\"\n",
    "    time.sleep(0.5) # sleep one second.\n",
    "\n",
    "class Connector():\n",
    "  def __init__(self,logfile,overwrite_log=False,connector_type='requests',session=False,path2selenium='',n_tries = 5,timeout=30):\n",
    "    \"\"\"This Class implements a method for reliable connection to the internet and monitoring. \n",
    "    It handles simple errors due to connection problems, and logs a range of information for basic quality assessments\n",
    "    \n",
    "    Keyword arguments:\n",
    "    logfile -- path to the logfile\n",
    "    overwrite_log -- bool, defining if logfile should be cleared (rarely the case). \n",
    "    connector_type -- use the 'requests' module or the 'selenium'. Will have different since the selenium webdriver does not have a similar response object when using the get method, and monitoring the behavior cannot be automated in the same way.\n",
    "    session -- requests.session object. For defining custom headers and proxies.\n",
    "    path2selenium -- str, sets the path to the geckodriver needed when using selenium.\n",
    "    n_tries -- int, defines the number of retries the *get* method will try to avoid random connection errors.\n",
    "    timeout -- int, seconds the get request will wait for the server to respond, again to avoid connection errors.\n",
    "    \"\"\"\n",
    "    \n",
    "    ## Initialization function defining parameters. \n",
    "    self.n_tries = n_tries # For avoiding triviel error e.g. connection errors, this defines how many times it will retry.\n",
    "    self.timeout = timeout # Defining the maximum time to wait for a server to response.\n",
    "    ## not implemented here, if you use selenium.\n",
    "    if connector_type=='selenium':\n",
    "      assert path2selenium!='', \"You need to specify the path to you geckodriver if you want to use Selenium\"\n",
    "      from selenium import webdriver \n",
    "      ## HIN download the latest geckodriver here: https://github.com/mozilla/geckodriver/releases\n",
    "\n",
    "      assert os.path.isfile(path2selenium),'You need to insert a valid path2selenium the path to your geckodriver. You can download the latest geckodriver here: https://github.com/mozilla/geckodriver/releases'\n",
    "      self.browser = webdriver.Firefox(executable_path=path2selenium) # start the browser with a path to the geckodriver.\n",
    "\n",
    "    self.connector_type = connector_type # set the connector_type\n",
    "    \n",
    "    if session: # set the custom session\n",
    "      self.session = session\n",
    "    else:\n",
    "      self.session = requests.session()\n",
    "    self.logfilename = logfile # set the logfile path\n",
    "    ## define header for the logfile\n",
    "    header = ['id','project','connector_type','t', 'delta_t', 'url', 'redirect_url','response_size', 'response_code','success','error']\n",
    "    if os.path.isfile(logfile):        \n",
    "      if overwrite_log==True:\n",
    "        self.log = open(logfile,'w')\n",
    "        self.log.write(';'.join(header))\n",
    "      else:\n",
    "        self.log = open(logfile,'a')\n",
    "    else:\n",
    "      self.log = open(logfile,'w')\n",
    "      self.log.write(';'.join(header))\n",
    "    ## load log \n",
    "    with open(logfile,'r') as f: # open file\n",
    "        \n",
    "      l = f.read().split('\\n') # read and split file by newlines.\n",
    "      ## set id\n",
    "      if len(l)<=1:\n",
    "        self.id = 0\n",
    "      else:\n",
    "        self.id = int(l[-1][0])+1\n",
    "            \n",
    "  def get(self,url,project_name):\n",
    "    \"\"\"Method for connector reliably to the internet, with multiple tries and simple error handling, as well as default logging function.\n",
    "    Input url and the project name for the log (i.e. is it part of mapping the domain, or is it the part of the final stage in the data collection).\n",
    "    \n",
    "    Keyword arguments:\n",
    "    url -- str, url\n",
    "    project_name -- str, Name used for analyzing the log. Use case could be the 'Mapping of domain','Meta_data_collection','main data collection'. \n",
    "    \"\"\"\n",
    "     \n",
    "    project_name = project_name.replace(';','-') # make sure the default csv seperator is not in the project_name.\n",
    "    if self.connector_type=='requests': # Determine connector method.\n",
    "      for _ in range(self.n_tries): # for loop defining number of retries with the requests method.\n",
    "        ratelimit()\n",
    "        t = time.time()\n",
    "        try: # error handling \n",
    "          response = self.session.get(url,timeout = self.timeout) # make get call\n",
    "\n",
    "          err = '' # define python error variable as empty assumming success.\n",
    "          success = True # define success variable\n",
    "          redirect_url = response.url # log current url, after potential redirects \n",
    "          dt = t - time.time() # define delta-time waiting for the server and downloading content.\n",
    "          size = len(response.text) # define variable for size of html content of the response.\n",
    "          response_code = response.status_code # log status code.\n",
    "          ## log...\n",
    "          call_id = self.id # get current unique identifier for the call\n",
    "          self.id+=1 # increment call id\n",
    "          #['id','project_name','connector_type','t', 'delta_t', 'url', 'redirect_url','response_size', 'response_code','success','error']\n",
    "          row = [call_id,project_name,self.connector_type,t,dt,url,redirect_url,size,response_code,success,err] # define row to be written in the log.\n",
    "          self.log.write('\\n'+';'.join(map(str,row))) # write log.\n",
    "          self.log.flush()\n",
    "          return response,call_id # return response and unique identifier.\n",
    "\n",
    "        except Exception as e: # define error condition\n",
    "          err = str(e) # python error\n",
    "          response_code = '' # blank response code \n",
    "          success = False # call success = False\n",
    "          size = 0 # content is empty.\n",
    "          redirect_url = '' # redirect url empty \n",
    "          dt = t - time.time() # define delta t\n",
    "\n",
    "          ## log...\n",
    "          call_id = self.id # define unique identifier\n",
    "          self.id+=1 # increment call_id\n",
    "\n",
    "          row = [call_id,project_name,self.connector_type,t,dt,url,redirect_url,size,response_code,success,err] # define row\n",
    "          self.log.write('\\n'+';'.join(map(str,row))) # write row to log.\n",
    "          self.log.flush()\n",
    "    else:\n",
    "      t = time.time()\n",
    "      ratelimit()\n",
    "      self.browser.get(url) # use selenium get method\n",
    "      ## log\n",
    "      call_id = self.id # define unique identifier for the call. \n",
    "      self.id+=1 # increment the call_id\n",
    "      err = '' # blank error message\n",
    "      success = '' # success blank\n",
    "      redirect_url = self.browser.current_url # redirect url.\n",
    "      dt = t - time.time() # get time for get method ... NOTE: not necessarily the complete load time.\n",
    "      size = len(self.browser.page_source) # get size of content ... NOTE: not necessarily correct, since selenium works in the background, and could still be loading.\n",
    "      response_code = '' # empty response code.\n",
    "      row = [call_id,project_name,self.connector_type,t,dt,url,redirect_url,size,response_code,success,err] # define row \n",
    "      self.log.write('\\n'+';'.join(map(str,row))) # write row to log file.\n",
    "      self.log.flush()\n",
    "    # Using selenium it will not return a response object, instead you should call the browser object of the connector.\n",
    "    ## connector.browser.page_source will give you the html.\n",
    "      return None,call_id"
   ]
  },
  {
   "cell_type": "code",
   "execution_count": 27,
   "metadata": {
    "slideshow": {
     "slide_type": "slide"
    }
   },
   "outputs": [
    {
     "data": {
      "text/html": [
       "<div>\n",
       "<style scoped>\n",
       "    .dataframe tbody tr th:only-of-type {\n",
       "        vertical-align: middle;\n",
       "    }\n",
       "\n",
       "    .dataframe tbody tr th {\n",
       "        vertical-align: top;\n",
       "    }\n",
       "\n",
       "    .dataframe thead th {\n",
       "        text-align: right;\n",
       "    }\n",
       "</style>\n",
       "<table border=\"1\" class=\"dataframe\">\n",
       "  <thead>\n",
       "    <tr style=\"text-align: right;\">\n",
       "      <th></th>\n",
       "      <th>id</th>\n",
       "      <th>project</th>\n",
       "      <th>connector_type</th>\n",
       "      <th>t</th>\n",
       "      <th>delta_t</th>\n",
       "      <th>url</th>\n",
       "      <th>redirect_url</th>\n",
       "      <th>response_size</th>\n",
       "      <th>response_code</th>\n",
       "      <th>success</th>\n",
       "      <th>error</th>\n",
       "    </tr>\n",
       "  </thead>\n",
       "  <tbody>\n",
       "    <tr>\n",
       "      <th>0</th>\n",
       "      <td>0</td>\n",
       "      <td>test_call</td>\n",
       "      <td>requests</td>\n",
       "      <td>1.565870e+09</td>\n",
       "      <td>-0.563015</td>\n",
       "      <td>https://www.google.com</td>\n",
       "      <td>https://www.google.com/</td>\n",
       "      <td>13372</td>\n",
       "      <td>200</td>\n",
       "      <td>True</td>\n",
       "      <td>NaN</td>\n",
       "    </tr>\n",
       "    <tr>\n",
       "      <th>1</th>\n",
       "      <td>0</td>\n",
       "      <td>test_call</td>\n",
       "      <td>requests</td>\n",
       "      <td>1.565870e+09</td>\n",
       "      <td>-0.136930</td>\n",
       "      <td>https://www.google.com</td>\n",
       "      <td>https://www.google.com/</td>\n",
       "      <td>13403</td>\n",
       "      <td>200</td>\n",
       "      <td>True</td>\n",
       "      <td>NaN</td>\n",
       "    </tr>\n",
       "    <tr>\n",
       "      <th>2</th>\n",
       "      <td>1</td>\n",
       "      <td>test_call</td>\n",
       "      <td>requests</td>\n",
       "      <td>1.565870e+09</td>\n",
       "      <td>-0.144856</td>\n",
       "      <td>https://www.google.com</td>\n",
       "      <td>https://www.google.com/</td>\n",
       "      <td>13375</td>\n",
       "      <td>200</td>\n",
       "      <td>True</td>\n",
       "      <td>NaN</td>\n",
       "    </tr>\n",
       "    <tr>\n",
       "      <th>3</th>\n",
       "      <td>1</td>\n",
       "      <td>test_call</td>\n",
       "      <td>requests</td>\n",
       "      <td>1.565870e+09</td>\n",
       "      <td>-0.150453</td>\n",
       "      <td>https://www.google.com</td>\n",
       "      <td>https://www.google.com/</td>\n",
       "      <td>13376</td>\n",
       "      <td>200</td>\n",
       "      <td>True</td>\n",
       "      <td>NaN</td>\n",
       "    </tr>\n",
       "    <tr>\n",
       "      <th>4</th>\n",
       "      <td>2</td>\n",
       "      <td>test_call</td>\n",
       "      <td>requests</td>\n",
       "      <td>1.565870e+09</td>\n",
       "      <td>-0.147066</td>\n",
       "      <td>https://www.google.com</td>\n",
       "      <td>https://www.google.com/</td>\n",
       "      <td>13431</td>\n",
       "      <td>200</td>\n",
       "      <td>True</td>\n",
       "      <td>NaN</td>\n",
       "    </tr>\n",
       "  </tbody>\n",
       "</table>\n",
       "</div>"
      ],
      "text/plain": [
       "   id    project connector_type             t   delta_t  \\\n",
       "0   0  test_call       requests  1.565870e+09 -0.563015   \n",
       "1   0  test_call       requests  1.565870e+09 -0.136930   \n",
       "2   1  test_call       requests  1.565870e+09 -0.144856   \n",
       "3   1  test_call       requests  1.565870e+09 -0.150453   \n",
       "4   2  test_call       requests  1.565870e+09 -0.147066   \n",
       "\n",
       "                      url             redirect_url  response_size  \\\n",
       "0  https://www.google.com  https://www.google.com/          13372   \n",
       "1  https://www.google.com  https://www.google.com/          13403   \n",
       "2  https://www.google.com  https://www.google.com/          13375   \n",
       "3  https://www.google.com  https://www.google.com/          13376   \n",
       "4  https://www.google.com  https://www.google.com/          13431   \n",
       "\n",
       "   response_code  success  error  \n",
       "0            200     True    NaN  \n",
       "1            200     True    NaN  \n",
       "2            200     True    NaN  \n",
       "3            200     True    NaN  \n",
       "4            200     True    NaN  "
      ]
     },
     "execution_count": 27,
     "metadata": {},
     "output_type": "execute_result"
    }
   ],
   "source": [
    "### Here we define our connection to the internet\n",
    "connector = Connector('logfile_sds_lecture8.csv')\n",
    "## Test the get method. It takes a url, and name for the log. In this case test call. \n",
    "## Ideally you should name it after the project, and subpart of that project. \n",
    "## E.g. mapping_jobposting referring to the initial mapping of the domain.\n",
    "response,call_id = connector.get('https://www.google.com','test_call')\n",
    "\n",
    "\n",
    "import pandas as pd\n",
    "pd.read_csv('logfile_sds_lecture8.csv',sep=';')"
   ]
  },
  {
   "cell_type": "markdown",
   "metadata": {
    "slideshow": {
     "slide_type": "slide"
    }
   },
   "source": [
    "## Exam\n",
    "- You need to relate intelligently to data quality issues using the log as a guide for potential problems.\n",
    "- Creative use of online data sources. Tell a simple story. \n",
    "    - Surf the web for interesting data and connect it to a question.\n",
    "    "
   ]
  },
  {
   "cell_type": "markdown",
   "metadata": {
    "slideshow": {
     "slide_type": "subslide"
    }
   },
   "source": [
    "**Now** we are ready to get some data "
   ]
  },
  {
   "cell_type": "markdown",
   "metadata": {
    "slideshow": {
     "slide_type": "slide"
    }
   },
   "source": [
    "## **3 basic examples**\n",
    "![](http://www.cluttercoach.net/wp/wp-content/uploads/2012/01/clapper-board-dreamstime_xs_22607452-300x300.jpg)"
   ]
  },
  {
   "cell_type": "markdown",
   "metadata": {
    "slideshow": {
     "slide_type": "slide"
    }
   },
   "source": [
    "### ** collecting data on display **\n",
    "** static webpage example **\n",
    "\n",
    "visit the following website (https://www.basketball-reference.com/leagues/NBA_2018.html).\n",
    "\n",
    "The page displays tables of data that we want to collect.\n",
    "Tomorrow you will see how to parse such a table, but for now I want to show you a neat function that has already implemented this."
   ]
  },
  {
   "cell_type": "code",
   "execution_count": 31,
   "metadata": {
    "slideshow": {
     "slide_type": "subslide"
    }
   },
   "outputs": [
    {
     "data": {
      "text/html": [
       "<div>\n",
       "<style scoped>\n",
       "    .dataframe tbody tr th:only-of-type {\n",
       "        vertical-align: middle;\n",
       "    }\n",
       "\n",
       "    .dataframe tbody tr th {\n",
       "        vertical-align: top;\n",
       "    }\n",
       "\n",
       "    .dataframe thead th {\n",
       "        text-align: right;\n",
       "    }\n",
       "</style>\n",
       "<table border=\"1\" class=\"dataframe\">\n",
       "  <thead>\n",
       "    <tr style=\"text-align: right;\">\n",
       "      <th></th>\n",
       "      <th>Eastern Conference</th>\n",
       "      <th>W</th>\n",
       "      <th>L</th>\n",
       "      <th>W/L%</th>\n",
       "      <th>GB</th>\n",
       "      <th>PS/G</th>\n",
       "      <th>PA/G</th>\n",
       "      <th>SRS</th>\n",
       "    </tr>\n",
       "  </thead>\n",
       "  <tbody>\n",
       "    <tr>\n",
       "      <th>0</th>\n",
       "      <td>Toronto Raptors* (1)</td>\n",
       "      <td>59</td>\n",
       "      <td>23</td>\n",
       "      <td>0.720</td>\n",
       "      <td>—</td>\n",
       "      <td>111.7</td>\n",
       "      <td>103.9</td>\n",
       "      <td>7.29</td>\n",
       "    </tr>\n",
       "    <tr>\n",
       "      <th>1</th>\n",
       "      <td>Boston Celtics* (2)</td>\n",
       "      <td>55</td>\n",
       "      <td>27</td>\n",
       "      <td>0.671</td>\n",
       "      <td>4.0</td>\n",
       "      <td>104.0</td>\n",
       "      <td>100.4</td>\n",
       "      <td>3.23</td>\n",
       "    </tr>\n",
       "    <tr>\n",
       "      <th>2</th>\n",
       "      <td>Philadelphia 76ers* (3)</td>\n",
       "      <td>52</td>\n",
       "      <td>30</td>\n",
       "      <td>0.634</td>\n",
       "      <td>7.0</td>\n",
       "      <td>109.8</td>\n",
       "      <td>105.3</td>\n",
       "      <td>4.30</td>\n",
       "    </tr>\n",
       "    <tr>\n",
       "      <th>3</th>\n",
       "      <td>Cleveland Cavaliers* (4)</td>\n",
       "      <td>50</td>\n",
       "      <td>32</td>\n",
       "      <td>0.610</td>\n",
       "      <td>9.0</td>\n",
       "      <td>110.9</td>\n",
       "      <td>109.9</td>\n",
       "      <td>0.59</td>\n",
       "    </tr>\n",
       "    <tr>\n",
       "      <th>4</th>\n",
       "      <td>Indiana Pacers* (5)</td>\n",
       "      <td>48</td>\n",
       "      <td>34</td>\n",
       "      <td>0.585</td>\n",
       "      <td>11.0</td>\n",
       "      <td>105.6</td>\n",
       "      <td>104.2</td>\n",
       "      <td>1.18</td>\n",
       "    </tr>\n",
       "    <tr>\n",
       "      <th>5</th>\n",
       "      <td>Miami Heat* (6)</td>\n",
       "      <td>44</td>\n",
       "      <td>38</td>\n",
       "      <td>0.537</td>\n",
       "      <td>15.0</td>\n",
       "      <td>103.4</td>\n",
       "      <td>102.9</td>\n",
       "      <td>0.15</td>\n",
       "    </tr>\n",
       "    <tr>\n",
       "      <th>6</th>\n",
       "      <td>Milwaukee Bucks* (7)</td>\n",
       "      <td>44</td>\n",
       "      <td>38</td>\n",
       "      <td>0.537</td>\n",
       "      <td>15.0</td>\n",
       "      <td>106.5</td>\n",
       "      <td>106.8</td>\n",
       "      <td>-0.45</td>\n",
       "    </tr>\n",
       "    <tr>\n",
       "      <th>7</th>\n",
       "      <td>Washington Wizards* (8)</td>\n",
       "      <td>43</td>\n",
       "      <td>39</td>\n",
       "      <td>0.524</td>\n",
       "      <td>16.0</td>\n",
       "      <td>106.6</td>\n",
       "      <td>106.0</td>\n",
       "      <td>0.53</td>\n",
       "    </tr>\n",
       "    <tr>\n",
       "      <th>8</th>\n",
       "      <td>Detroit Pistons (9)</td>\n",
       "      <td>39</td>\n",
       "      <td>43</td>\n",
       "      <td>0.476</td>\n",
       "      <td>20.0</td>\n",
       "      <td>103.8</td>\n",
       "      <td>103.9</td>\n",
       "      <td>-0.26</td>\n",
       "    </tr>\n",
       "    <tr>\n",
       "      <th>9</th>\n",
       "      <td>Charlotte Hornets (10)</td>\n",
       "      <td>36</td>\n",
       "      <td>46</td>\n",
       "      <td>0.439</td>\n",
       "      <td>23.0</td>\n",
       "      <td>108.2</td>\n",
       "      <td>108.0</td>\n",
       "      <td>0.07</td>\n",
       "    </tr>\n",
       "    <tr>\n",
       "      <th>10</th>\n",
       "      <td>New York Knicks (11)</td>\n",
       "      <td>29</td>\n",
       "      <td>53</td>\n",
       "      <td>0.354</td>\n",
       "      <td>30.0</td>\n",
       "      <td>104.5</td>\n",
       "      <td>108.0</td>\n",
       "      <td>-3.53</td>\n",
       "    </tr>\n",
       "    <tr>\n",
       "      <th>11</th>\n",
       "      <td>Brooklyn Nets (12)</td>\n",
       "      <td>28</td>\n",
       "      <td>54</td>\n",
       "      <td>0.341</td>\n",
       "      <td>31.0</td>\n",
       "      <td>106.6</td>\n",
       "      <td>110.3</td>\n",
       "      <td>-3.67</td>\n",
       "    </tr>\n",
       "    <tr>\n",
       "      <th>12</th>\n",
       "      <td>Chicago Bulls (13)</td>\n",
       "      <td>27</td>\n",
       "      <td>55</td>\n",
       "      <td>0.329</td>\n",
       "      <td>32.0</td>\n",
       "      <td>102.9</td>\n",
       "      <td>110.0</td>\n",
       "      <td>-6.84</td>\n",
       "    </tr>\n",
       "    <tr>\n",
       "      <th>13</th>\n",
       "      <td>Orlando Magic (14)</td>\n",
       "      <td>25</td>\n",
       "      <td>57</td>\n",
       "      <td>0.305</td>\n",
       "      <td>34.0</td>\n",
       "      <td>103.4</td>\n",
       "      <td>108.2</td>\n",
       "      <td>-4.92</td>\n",
       "    </tr>\n",
       "    <tr>\n",
       "      <th>14</th>\n",
       "      <td>Atlanta Hawks (15)</td>\n",
       "      <td>24</td>\n",
       "      <td>58</td>\n",
       "      <td>0.293</td>\n",
       "      <td>35.0</td>\n",
       "      <td>103.4</td>\n",
       "      <td>108.8</td>\n",
       "      <td>-5.30</td>\n",
       "    </tr>\n",
       "  </tbody>\n",
       "</table>\n",
       "</div>"
      ],
      "text/plain": [
       "          Eastern Conference   W   L   W/L%    GB   PS/G   PA/G   SRS\n",
       "0       Toronto Raptors* (1)  59  23  0.720     —  111.7  103.9  7.29\n",
       "1        Boston Celtics* (2)  55  27  0.671   4.0  104.0  100.4  3.23\n",
       "2    Philadelphia 76ers* (3)  52  30  0.634   7.0  109.8  105.3  4.30\n",
       "3   Cleveland Cavaliers* (4)  50  32  0.610   9.0  110.9  109.9  0.59\n",
       "4        Indiana Pacers* (5)  48  34  0.585  11.0  105.6  104.2  1.18\n",
       "5            Miami Heat* (6)  44  38  0.537  15.0  103.4  102.9  0.15\n",
       "6       Milwaukee Bucks* (7)  44  38  0.537  15.0  106.5  106.8 -0.45\n",
       "7    Washington Wizards* (8)  43  39  0.524  16.0  106.6  106.0  0.53\n",
       "8        Detroit Pistons (9)  39  43  0.476  20.0  103.8  103.9 -0.26\n",
       "9     Charlotte Hornets (10)  36  46  0.439  23.0  108.2  108.0  0.07\n",
       "10      New York Knicks (11)  29  53  0.354  30.0  104.5  108.0 -3.53\n",
       "11        Brooklyn Nets (12)  28  54  0.341  31.0  106.6  110.3 -3.67\n",
       "12        Chicago Bulls (13)  27  55  0.329  32.0  102.9  110.0 -6.84\n",
       "13        Orlando Magic (14)  25  57  0.305  34.0  103.4  108.2 -4.92\n",
       "14        Atlanta Hawks (15)  24  58  0.293  35.0  103.4  108.8 -5.30"
      ]
     },
     "execution_count": 31,
     "metadata": {},
     "output_type": "execute_result"
    }
   ],
   "source": [
    "url = 'https://www.basketball-reference.com/leagues/NBA_2018.html' # link to the website\n",
    "import pandas as pd \n",
    "dfs = pd.read_html(url) # parses all tables found on the page.\n",
    "dfs[0]"
   ]
  },
  {
   "cell_type": "code",
   "execution_count": 78,
   "metadata": {
    "slideshow": {
     "slide_type": "subslide"
    }
   },
   "outputs": [
    {
     "data": {
      "text/plain": [
       "[          Eastern Conference   W   L   W/L%    GB   PS/G   PA/G   SRS\n",
       " 0       Toronto Raptors* (1)  59  23  0.720     —  111.7  103.9  7.29\n",
       " 1        Boston Celtics* (2)  55  27  0.671   4.0  104.0  100.4  3.23\n",
       " 2    Philadelphia 76ers* (3)  52  30  0.634   7.0  109.8  105.3  4.30\n",
       " 3   Cleveland Cavaliers* (4)  50  32  0.610   9.0  110.9  109.9  0.59\n",
       " 4        Indiana Pacers* (5)  48  34  0.585  11.0  105.6  104.2  1.18\n",
       " 5            Miami Heat* (6)  44  38  0.537  15.0  103.4  102.9  0.15\n",
       " 6       Milwaukee Bucks* (7)  44  38  0.537  15.0  106.5  106.8 -0.45\n",
       " 7    Washington Wizards* (8)  43  39  0.524  16.0  106.6  106.0  0.53\n",
       " 8        Detroit Pistons (9)  39  43  0.476  20.0  103.8  103.9 -0.26\n",
       " 9     Charlotte Hornets (10)  36  46  0.439  23.0  108.2  108.0  0.07\n",
       " 10      New York Knicks (11)  29  53  0.354  30.0  104.5  108.0 -3.53\n",
       " 11        Brooklyn Nets (12)  28  54  0.341  31.0  106.6  110.3 -3.67\n",
       " 12        Chicago Bulls (13)  27  55  0.329  32.0  102.9  110.0 -6.84\n",
       " 13        Orlando Magic (14)  25  57  0.305  34.0  103.4  108.2 -4.92\n",
       " 14        Atlanta Hawks (15)  24  58  0.293  35.0  103.4  108.8 -5.30]"
      ]
     },
     "execution_count": 78,
     "metadata": {},
     "output_type": "execute_result"
    }
   ],
   "source": [
    "EC_df = pd.read_html(url,attrs={'id':'confs_standings_E'}) # only parse the tables with attribute confs_standings_E"
   ]
  },
  {
   "cell_type": "markdown",
   "metadata": {
    "slideshow": {
     "slide_type": "slide"
    }
   },
   "source": [
    "### ** collecting data behind the display**\n",
    "** dynamic webpage example **\n",
    "\n",
    "Websites that continually show new data (jobsites, real-estate pages, social media), are as a rule dynamic webpages, where the whole page is not send as raw HTML. Instead a set of instructions (JavaScripts) on how to build it is send. Within those instructions we can often find direct calls to the data displayed.\n",
    "\n",
    "Click on the following link: https://trends.google.com/trends/explore?date=all&geo=US&q=%2Fm%2F05jvx,%2Fm%2F059yj\n",
    "\n",
    "Here we want to collect the data behind the graph. Open your browsers **>Network Monitor<** tool and search for the request that contains the data.\n"
   ]
  },
  {
   "cell_type": "code",
   "execution_count": 39,
   "metadata": {
    "slideshow": {
     "slide_type": "subslide"
    }
   },
   "outputs": [
    {
     "data": {
      "text/html": [
       "<div>\n",
       "<style scoped>\n",
       "    .dataframe tbody tr th:only-of-type {\n",
       "        vertical-align: middle;\n",
       "    }\n",
       "\n",
       "    .dataframe tbody tr th {\n",
       "        vertical-align: top;\n",
       "    }\n",
       "\n",
       "    .dataframe thead th {\n",
       "        text-align: right;\n",
       "    }\n",
       "</style>\n",
       "<table border=\"1\" class=\"dataframe\">\n",
       "  <thead>\n",
       "    <tr style=\"text-align: right;\">\n",
       "      <th></th>\n",
       "      <th>axisNote</th>\n",
       "      <th>formattedAxisTime</th>\n",
       "      <th>formattedTime</th>\n",
       "      <th>formattedValue</th>\n",
       "      <th>hasData</th>\n",
       "      <th>isPartial</th>\n",
       "      <th>time</th>\n",
       "      <th>value</th>\n",
       "    </tr>\n",
       "  </thead>\n",
       "  <tbody>\n",
       "    <tr>\n",
       "      <th>0</th>\n",
       "      <td>NaN</td>\n",
       "      <td>1. jan. 2004</td>\n",
       "      <td>jan. 2004</td>\n",
       "      <td>[7, 18]</td>\n",
       "      <td>[True, True]</td>\n",
       "      <td>NaN</td>\n",
       "      <td>1072915200</td>\n",
       "      <td>[7, 18]</td>\n",
       "    </tr>\n",
       "    <tr>\n",
       "      <th>1</th>\n",
       "      <td>NaN</td>\n",
       "      <td>1. feb. 2004</td>\n",
       "      <td>feb. 2004</td>\n",
       "      <td>[9, 10]</td>\n",
       "      <td>[True, True]</td>\n",
       "      <td>NaN</td>\n",
       "      <td>1075593600</td>\n",
       "      <td>[9, 10]</td>\n",
       "    </tr>\n",
       "    <tr>\n",
       "      <th>2</th>\n",
       "      <td>NaN</td>\n",
       "      <td>1. mar. 2004</td>\n",
       "      <td>mar. 2004</td>\n",
       "      <td>[7, 9]</td>\n",
       "      <td>[True, True]</td>\n",
       "      <td>NaN</td>\n",
       "      <td>1078099200</td>\n",
       "      <td>[7, 9]</td>\n",
       "    </tr>\n",
       "    <tr>\n",
       "      <th>3</th>\n",
       "      <td>NaN</td>\n",
       "      <td>1. apr. 2004</td>\n",
       "      <td>apr. 2004</td>\n",
       "      <td>[9, 10]</td>\n",
       "      <td>[True, True]</td>\n",
       "      <td>NaN</td>\n",
       "      <td>1080777600</td>\n",
       "      <td>[9, 10]</td>\n",
       "    </tr>\n",
       "    <tr>\n",
       "      <th>4</th>\n",
       "      <td>NaN</td>\n",
       "      <td>1. maj 2004</td>\n",
       "      <td>maj 2004</td>\n",
       "      <td>[11, 5]</td>\n",
       "      <td>[True, True]</td>\n",
       "      <td>NaN</td>\n",
       "      <td>1083369600</td>\n",
       "      <td>[11, 5]</td>\n",
       "    </tr>\n",
       "    <tr>\n",
       "      <th>5</th>\n",
       "      <td>NaN</td>\n",
       "      <td>1. jun. 2004</td>\n",
       "      <td>jun. 2004</td>\n",
       "      <td>[11, 5]</td>\n",
       "      <td>[True, True]</td>\n",
       "      <td>NaN</td>\n",
       "      <td>1086048000</td>\n",
       "      <td>[11, 5]</td>\n",
       "    </tr>\n",
       "    <tr>\n",
       "      <th>6</th>\n",
       "      <td>NaN</td>\n",
       "      <td>1. jul. 2004</td>\n",
       "      <td>jul. 2004</td>\n",
       "      <td>[7, 6]</td>\n",
       "      <td>[True, True]</td>\n",
       "      <td>NaN</td>\n",
       "      <td>1088640000</td>\n",
       "      <td>[7, 6]</td>\n",
       "    </tr>\n",
       "    <tr>\n",
       "      <th>7</th>\n",
       "      <td>NaN</td>\n",
       "      <td>1. aug. 2004</td>\n",
       "      <td>aug. 2004</td>\n",
       "      <td>[5, 13]</td>\n",
       "      <td>[True, True]</td>\n",
       "      <td>NaN</td>\n",
       "      <td>1091318400</td>\n",
       "      <td>[5, 13]</td>\n",
       "    </tr>\n",
       "    <tr>\n",
       "      <th>8</th>\n",
       "      <td>NaN</td>\n",
       "      <td>1. sep. 2004</td>\n",
       "      <td>sep. 2004</td>\n",
       "      <td>[4, 26]</td>\n",
       "      <td>[True, True]</td>\n",
       "      <td>NaN</td>\n",
       "      <td>1093996800</td>\n",
       "      <td>[4, 26]</td>\n",
       "    </tr>\n",
       "    <tr>\n",
       "      <th>9</th>\n",
       "      <td>NaN</td>\n",
       "      <td>1. okt. 2004</td>\n",
       "      <td>okt. 2004</td>\n",
       "      <td>[5, 20]</td>\n",
       "      <td>[True, True]</td>\n",
       "      <td>NaN</td>\n",
       "      <td>1096588800</td>\n",
       "      <td>[5, 20]</td>\n",
       "    </tr>\n",
       "    <tr>\n",
       "      <th>10</th>\n",
       "      <td>NaN</td>\n",
       "      <td>1. nov. 2004</td>\n",
       "      <td>nov. 2004</td>\n",
       "      <td>[11, 20]</td>\n",
       "      <td>[True, True]</td>\n",
       "      <td>NaN</td>\n",
       "      <td>1099267200</td>\n",
       "      <td>[11, 20]</td>\n",
       "    </tr>\n",
       "    <tr>\n",
       "      <th>11</th>\n",
       "      <td>NaN</td>\n",
       "      <td>1. dec. 2004</td>\n",
       "      <td>dec. 2004</td>\n",
       "      <td>[8, 22]</td>\n",
       "      <td>[True, True]</td>\n",
       "      <td>NaN</td>\n",
       "      <td>1101859200</td>\n",
       "      <td>[8, 22]</td>\n",
       "    </tr>\n",
       "    <tr>\n",
       "      <th>12</th>\n",
       "      <td>NaN</td>\n",
       "      <td>1. jan. 2005</td>\n",
       "      <td>jan. 2005</td>\n",
       "      <td>[8, 22]</td>\n",
       "      <td>[True, True]</td>\n",
       "      <td>NaN</td>\n",
       "      <td>1104537600</td>\n",
       "      <td>[8, 22]</td>\n",
       "    </tr>\n",
       "    <tr>\n",
       "      <th>13</th>\n",
       "      <td>NaN</td>\n",
       "      <td>1. feb. 2005</td>\n",
       "      <td>feb. 2005</td>\n",
       "      <td>[10, 11]</td>\n",
       "      <td>[True, True]</td>\n",
       "      <td>NaN</td>\n",
       "      <td>1107216000</td>\n",
       "      <td>[10, 11]</td>\n",
       "    </tr>\n",
       "    <tr>\n",
       "      <th>14</th>\n",
       "      <td>NaN</td>\n",
       "      <td>1. mar. 2005</td>\n",
       "      <td>mar. 2005</td>\n",
       "      <td>[8, 9]</td>\n",
       "      <td>[True, True]</td>\n",
       "      <td>NaN</td>\n",
       "      <td>1109635200</td>\n",
       "      <td>[8, 9]</td>\n",
       "    </tr>\n",
       "    <tr>\n",
       "      <th>15</th>\n",
       "      <td>NaN</td>\n",
       "      <td>1. apr. 2005</td>\n",
       "      <td>apr. 2005</td>\n",
       "      <td>[10, 10]</td>\n",
       "      <td>[True, True]</td>\n",
       "      <td>NaN</td>\n",
       "      <td>1112313600</td>\n",
       "      <td>[10, 10]</td>\n",
       "    </tr>\n",
       "    <tr>\n",
       "      <th>16</th>\n",
       "      <td>NaN</td>\n",
       "      <td>1. maj 2005</td>\n",
       "      <td>maj 2005</td>\n",
       "      <td>[11, 6]</td>\n",
       "      <td>[True, True]</td>\n",
       "      <td>NaN</td>\n",
       "      <td>1114905600</td>\n",
       "      <td>[11, 6]</td>\n",
       "    </tr>\n",
       "    <tr>\n",
       "      <th>17</th>\n",
       "      <td>NaN</td>\n",
       "      <td>1. jun. 2005</td>\n",
       "      <td>jun. 2005</td>\n",
       "      <td>[12, 5]</td>\n",
       "      <td>[True, True]</td>\n",
       "      <td>NaN</td>\n",
       "      <td>1117584000</td>\n",
       "      <td>[12, 5]</td>\n",
       "    </tr>\n",
       "    <tr>\n",
       "      <th>18</th>\n",
       "      <td>NaN</td>\n",
       "      <td>1. jul. 2005</td>\n",
       "      <td>jul. 2005</td>\n",
       "      <td>[6, 6]</td>\n",
       "      <td>[True, True]</td>\n",
       "      <td>NaN</td>\n",
       "      <td>1120176000</td>\n",
       "      <td>[6, 6]</td>\n",
       "    </tr>\n",
       "    <tr>\n",
       "      <th>19</th>\n",
       "      <td>NaN</td>\n",
       "      <td>1. aug. 2005</td>\n",
       "      <td>aug. 2005</td>\n",
       "      <td>[5, 15]</td>\n",
       "      <td>[True, True]</td>\n",
       "      <td>NaN</td>\n",
       "      <td>1122854400</td>\n",
       "      <td>[5, 15]</td>\n",
       "    </tr>\n",
       "    <tr>\n",
       "      <th>20</th>\n",
       "      <td>NaN</td>\n",
       "      <td>1. sep. 2005</td>\n",
       "      <td>sep. 2005</td>\n",
       "      <td>[4, 29]</td>\n",
       "      <td>[True, True]</td>\n",
       "      <td>NaN</td>\n",
       "      <td>1125532800</td>\n",
       "      <td>[4, 29]</td>\n",
       "    </tr>\n",
       "    <tr>\n",
       "      <th>21</th>\n",
       "      <td>NaN</td>\n",
       "      <td>1. okt. 2005</td>\n",
       "      <td>okt. 2005</td>\n",
       "      <td>[6, 25]</td>\n",
       "      <td>[True, True]</td>\n",
       "      <td>NaN</td>\n",
       "      <td>1128124800</td>\n",
       "      <td>[6, 25]</td>\n",
       "    </tr>\n",
       "    <tr>\n",
       "      <th>22</th>\n",
       "      <td>NaN</td>\n",
       "      <td>1. nov. 2005</td>\n",
       "      <td>nov. 2005</td>\n",
       "      <td>[9, 26]</td>\n",
       "      <td>[True, True]</td>\n",
       "      <td>NaN</td>\n",
       "      <td>1130803200</td>\n",
       "      <td>[9, 26]</td>\n",
       "    </tr>\n",
       "    <tr>\n",
       "      <th>23</th>\n",
       "      <td>NaN</td>\n",
       "      <td>1. dec. 2005</td>\n",
       "      <td>dec. 2005</td>\n",
       "      <td>[8, 26]</td>\n",
       "      <td>[True, True]</td>\n",
       "      <td>NaN</td>\n",
       "      <td>1133395200</td>\n",
       "      <td>[8, 26]</td>\n",
       "    </tr>\n",
       "    <tr>\n",
       "      <th>24</th>\n",
       "      <td>NaN</td>\n",
       "      <td>1. jan. 2006</td>\n",
       "      <td>jan. 2006</td>\n",
       "      <td>[9, 27]</td>\n",
       "      <td>[True, True]</td>\n",
       "      <td>NaN</td>\n",
       "      <td>1136073600</td>\n",
       "      <td>[9, 27]</td>\n",
       "    </tr>\n",
       "    <tr>\n",
       "      <th>25</th>\n",
       "      <td>NaN</td>\n",
       "      <td>1. feb. 2006</td>\n",
       "      <td>feb. 2006</td>\n",
       "      <td>[10, 12]</td>\n",
       "      <td>[True, True]</td>\n",
       "      <td>NaN</td>\n",
       "      <td>1138752000</td>\n",
       "      <td>[10, 12]</td>\n",
       "    </tr>\n",
       "    <tr>\n",
       "      <th>26</th>\n",
       "      <td>NaN</td>\n",
       "      <td>1. mar. 2006</td>\n",
       "      <td>mar. 2006</td>\n",
       "      <td>[8, 12]</td>\n",
       "      <td>[True, True]</td>\n",
       "      <td>NaN</td>\n",
       "      <td>1141171200</td>\n",
       "      <td>[8, 12]</td>\n",
       "    </tr>\n",
       "    <tr>\n",
       "      <th>27</th>\n",
       "      <td>NaN</td>\n",
       "      <td>1. apr. 2006</td>\n",
       "      <td>apr. 2006</td>\n",
       "      <td>[10, 12]</td>\n",
       "      <td>[True, True]</td>\n",
       "      <td>NaN</td>\n",
       "      <td>1143849600</td>\n",
       "      <td>[10, 12]</td>\n",
       "    </tr>\n",
       "    <tr>\n",
       "      <th>28</th>\n",
       "      <td>NaN</td>\n",
       "      <td>1. maj 2006</td>\n",
       "      <td>maj 2006</td>\n",
       "      <td>[13, 7]</td>\n",
       "      <td>[True, True]</td>\n",
       "      <td>NaN</td>\n",
       "      <td>1146441600</td>\n",
       "      <td>[13, 7]</td>\n",
       "    </tr>\n",
       "    <tr>\n",
       "      <th>29</th>\n",
       "      <td>NaN</td>\n",
       "      <td>1. jun. 2006</td>\n",
       "      <td>jun. 2006</td>\n",
       "      <td>[11, 6]</td>\n",
       "      <td>[True, True]</td>\n",
       "      <td>NaN</td>\n",
       "      <td>1149120000</td>\n",
       "      <td>[11, 6]</td>\n",
       "    </tr>\n",
       "    <tr>\n",
       "      <th>...</th>\n",
       "      <td>...</td>\n",
       "      <td>...</td>\n",
       "      <td>...</td>\n",
       "      <td>...</td>\n",
       "      <td>...</td>\n",
       "      <td>...</td>\n",
       "      <td>...</td>\n",
       "      <td>...</td>\n",
       "    </tr>\n",
       "    <tr>\n",
       "      <th>158</th>\n",
       "      <td>NaN</td>\n",
       "      <td>1. mar. 2017</td>\n",
       "      <td>mar. 2017</td>\n",
       "      <td>[30, 15]</td>\n",
       "      <td>[True, True]</td>\n",
       "      <td>NaN</td>\n",
       "      <td>1488326400</td>\n",
       "      <td>[30, 15]</td>\n",
       "    </tr>\n",
       "    <tr>\n",
       "      <th>159</th>\n",
       "      <td>NaN</td>\n",
       "      <td>1. apr. 2017</td>\n",
       "      <td>apr. 2017</td>\n",
       "      <td>[44, 15]</td>\n",
       "      <td>[True, True]</td>\n",
       "      <td>NaN</td>\n",
       "      <td>1491004800</td>\n",
       "      <td>[44, 15]</td>\n",
       "    </tr>\n",
       "    <tr>\n",
       "      <th>160</th>\n",
       "      <td>NaN</td>\n",
       "      <td>1. maj 2017</td>\n",
       "      <td>maj 2017</td>\n",
       "      <td>[41, 9]</td>\n",
       "      <td>[True, True]</td>\n",
       "      <td>NaN</td>\n",
       "      <td>1493596800</td>\n",
       "      <td>[41, 9]</td>\n",
       "    </tr>\n",
       "    <tr>\n",
       "      <th>161</th>\n",
       "      <td>NaN</td>\n",
       "      <td>1. jun. 2017</td>\n",
       "      <td>jun. 2017</td>\n",
       "      <td>[37, 7]</td>\n",
       "      <td>[True, True]</td>\n",
       "      <td>NaN</td>\n",
       "      <td>1496275200</td>\n",
       "      <td>[37, 7]</td>\n",
       "    </tr>\n",
       "    <tr>\n",
       "      <th>162</th>\n",
       "      <td>NaN</td>\n",
       "      <td>1. jul. 2017</td>\n",
       "      <td>jul. 2017</td>\n",
       "      <td>[19, 9]</td>\n",
       "      <td>[True, True]</td>\n",
       "      <td>NaN</td>\n",
       "      <td>1498867200</td>\n",
       "      <td>[19, 9]</td>\n",
       "    </tr>\n",
       "    <tr>\n",
       "      <th>163</th>\n",
       "      <td>NaN</td>\n",
       "      <td>1. aug. 2017</td>\n",
       "      <td>aug. 2017</td>\n",
       "      <td>[9, 27]</td>\n",
       "      <td>[True, True]</td>\n",
       "      <td>NaN</td>\n",
       "      <td>1501545600</td>\n",
       "      <td>[9, 27]</td>\n",
       "    </tr>\n",
       "    <tr>\n",
       "      <th>164</th>\n",
       "      <td>NaN</td>\n",
       "      <td>1. sep. 2017</td>\n",
       "      <td>sep. 2017</td>\n",
       "      <td>[9, 82]</td>\n",
       "      <td>[True, True]</td>\n",
       "      <td>NaN</td>\n",
       "      <td>1504224000</td>\n",
       "      <td>[9, 82]</td>\n",
       "    </tr>\n",
       "    <tr>\n",
       "      <th>165</th>\n",
       "      <td>NaN</td>\n",
       "      <td>1. okt. 2017</td>\n",
       "      <td>okt. 2017</td>\n",
       "      <td>[27, 80]</td>\n",
       "      <td>[True, True]</td>\n",
       "      <td>NaN</td>\n",
       "      <td>1506816000</td>\n",
       "      <td>[27, 80]</td>\n",
       "    </tr>\n",
       "    <tr>\n",
       "      <th>166</th>\n",
       "      <td>NaN</td>\n",
       "      <td>1. nov. 2017</td>\n",
       "      <td>nov. 2017</td>\n",
       "      <td>[35, 69]</td>\n",
       "      <td>[True, True]</td>\n",
       "      <td>NaN</td>\n",
       "      <td>1509494400</td>\n",
       "      <td>[35, 69]</td>\n",
       "    </tr>\n",
       "    <tr>\n",
       "      <th>167</th>\n",
       "      <td>NaN</td>\n",
       "      <td>1. dec. 2017</td>\n",
       "      <td>dec. 2017</td>\n",
       "      <td>[34, 82]</td>\n",
       "      <td>[True, True]</td>\n",
       "      <td>NaN</td>\n",
       "      <td>1512086400</td>\n",
       "      <td>[34, 82]</td>\n",
       "    </tr>\n",
       "    <tr>\n",
       "      <th>168</th>\n",
       "      <td>NaN</td>\n",
       "      <td>1. jan. 2018</td>\n",
       "      <td>jan. 2018</td>\n",
       "      <td>[35, 79]</td>\n",
       "      <td>[True, True]</td>\n",
       "      <td>NaN</td>\n",
       "      <td>1514764800</td>\n",
       "      <td>[35, 79]</td>\n",
       "    </tr>\n",
       "    <tr>\n",
       "      <th>169</th>\n",
       "      <td>NaN</td>\n",
       "      <td>1. feb. 2018</td>\n",
       "      <td>feb. 2018</td>\n",
       "      <td>[36, 18]</td>\n",
       "      <td>[True, True]</td>\n",
       "      <td>NaN</td>\n",
       "      <td>1517443200</td>\n",
       "      <td>[36, 18]</td>\n",
       "    </tr>\n",
       "    <tr>\n",
       "      <th>170</th>\n",
       "      <td>NaN</td>\n",
       "      <td>1. mar. 2018</td>\n",
       "      <td>mar. 2018</td>\n",
       "      <td>[35, 17]</td>\n",
       "      <td>[True, True]</td>\n",
       "      <td>NaN</td>\n",
       "      <td>1519862400</td>\n",
       "      <td>[35, 17]</td>\n",
       "    </tr>\n",
       "    <tr>\n",
       "      <th>171</th>\n",
       "      <td>NaN</td>\n",
       "      <td>1. apr. 2018</td>\n",
       "      <td>apr. 2018</td>\n",
       "      <td>[54, 16]</td>\n",
       "      <td>[True, True]</td>\n",
       "      <td>NaN</td>\n",
       "      <td>1522540800</td>\n",
       "      <td>[54, 16]</td>\n",
       "    </tr>\n",
       "    <tr>\n",
       "      <th>172</th>\n",
       "      <td>NaN</td>\n",
       "      <td>1. maj 2018</td>\n",
       "      <td>maj 2018</td>\n",
       "      <td>[62, 9]</td>\n",
       "      <td>[True, True]</td>\n",
       "      <td>NaN</td>\n",
       "      <td>1525132800</td>\n",
       "      <td>[62, 9]</td>\n",
       "    </tr>\n",
       "    <tr>\n",
       "      <th>173</th>\n",
       "      <td>NaN</td>\n",
       "      <td>1. jun. 2018</td>\n",
       "      <td>jun. 2018</td>\n",
       "      <td>[32, 7]</td>\n",
       "      <td>[True, True]</td>\n",
       "      <td>NaN</td>\n",
       "      <td>1527811200</td>\n",
       "      <td>[32, 7]</td>\n",
       "    </tr>\n",
       "    <tr>\n",
       "      <th>174</th>\n",
       "      <td>NaN</td>\n",
       "      <td>1. jul. 2018</td>\n",
       "      <td>jul. 2018</td>\n",
       "      <td>[19, 9]</td>\n",
       "      <td>[True, True]</td>\n",
       "      <td>NaN</td>\n",
       "      <td>1530403200</td>\n",
       "      <td>[19, 9]</td>\n",
       "    </tr>\n",
       "    <tr>\n",
       "      <th>175</th>\n",
       "      <td>NaN</td>\n",
       "      <td>1. aug. 2018</td>\n",
       "      <td>aug. 2018</td>\n",
       "      <td>[8, 28]</td>\n",
       "      <td>[True, True]</td>\n",
       "      <td>NaN</td>\n",
       "      <td>1533081600</td>\n",
       "      <td>[8, 28]</td>\n",
       "    </tr>\n",
       "    <tr>\n",
       "      <th>176</th>\n",
       "      <td>NaN</td>\n",
       "      <td>1. sep. 2018</td>\n",
       "      <td>sep. 2018</td>\n",
       "      <td>[8, 89]</td>\n",
       "      <td>[True, True]</td>\n",
       "      <td>NaN</td>\n",
       "      <td>1535760000</td>\n",
       "      <td>[8, 89]</td>\n",
       "    </tr>\n",
       "    <tr>\n",
       "      <th>177</th>\n",
       "      <td>NaN</td>\n",
       "      <td>1. okt. 2018</td>\n",
       "      <td>okt. 2018</td>\n",
       "      <td>[30, 79]</td>\n",
       "      <td>[True, True]</td>\n",
       "      <td>NaN</td>\n",
       "      <td>1538352000</td>\n",
       "      <td>[30, 79]</td>\n",
       "    </tr>\n",
       "    <tr>\n",
       "      <th>178</th>\n",
       "      <td>NaN</td>\n",
       "      <td>1. nov. 2018</td>\n",
       "      <td>nov. 2018</td>\n",
       "      <td>[39, 80]</td>\n",
       "      <td>[True, True]</td>\n",
       "      <td>NaN</td>\n",
       "      <td>1541030400</td>\n",
       "      <td>[39, 80]</td>\n",
       "    </tr>\n",
       "    <tr>\n",
       "      <th>179</th>\n",
       "      <td>NaN</td>\n",
       "      <td>1. dec. 2018</td>\n",
       "      <td>dec. 2018</td>\n",
       "      <td>[39, 100]</td>\n",
       "      <td>[True, True]</td>\n",
       "      <td>NaN</td>\n",
       "      <td>1543622400</td>\n",
       "      <td>[39, 100]</td>\n",
       "    </tr>\n",
       "    <tr>\n",
       "      <th>180</th>\n",
       "      <td>NaN</td>\n",
       "      <td>1. jan. 2019</td>\n",
       "      <td>jan. 2019</td>\n",
       "      <td>[38, 91]</td>\n",
       "      <td>[True, True]</td>\n",
       "      <td>NaN</td>\n",
       "      <td>1546300800</td>\n",
       "      <td>[38, 91]</td>\n",
       "    </tr>\n",
       "    <tr>\n",
       "      <th>181</th>\n",
       "      <td>NaN</td>\n",
       "      <td>1. feb. 2019</td>\n",
       "      <td>feb. 2019</td>\n",
       "      <td>[40, 19]</td>\n",
       "      <td>[True, True]</td>\n",
       "      <td>NaN</td>\n",
       "      <td>1548979200</td>\n",
       "      <td>[40, 19]</td>\n",
       "    </tr>\n",
       "    <tr>\n",
       "      <th>182</th>\n",
       "      <td>NaN</td>\n",
       "      <td>1. mar. 2019</td>\n",
       "      <td>mar. 2019</td>\n",
       "      <td>[39, 16]</td>\n",
       "      <td>[True, True]</td>\n",
       "      <td>NaN</td>\n",
       "      <td>1551398400</td>\n",
       "      <td>[39, 16]</td>\n",
       "    </tr>\n",
       "    <tr>\n",
       "      <th>183</th>\n",
       "      <td>NaN</td>\n",
       "      <td>1. apr. 2019</td>\n",
       "      <td>apr. 2019</td>\n",
       "      <td>[52, 15]</td>\n",
       "      <td>[True, True]</td>\n",
       "      <td>NaN</td>\n",
       "      <td>1554076800</td>\n",
       "      <td>[52, 15]</td>\n",
       "    </tr>\n",
       "    <tr>\n",
       "      <th>184</th>\n",
       "      <td>NaN</td>\n",
       "      <td>1. maj 2019</td>\n",
       "      <td>maj 2019</td>\n",
       "      <td>[62, 8]</td>\n",
       "      <td>[True, True]</td>\n",
       "      <td>NaN</td>\n",
       "      <td>1556668800</td>\n",
       "      <td>[62, 8]</td>\n",
       "    </tr>\n",
       "    <tr>\n",
       "      <th>185</th>\n",
       "      <td>NaN</td>\n",
       "      <td>1. jun. 2019</td>\n",
       "      <td>jun. 2019</td>\n",
       "      <td>[41, 7]</td>\n",
       "      <td>[True, True]</td>\n",
       "      <td>NaN</td>\n",
       "      <td>1559347200</td>\n",
       "      <td>[41, 7]</td>\n",
       "    </tr>\n",
       "    <tr>\n",
       "      <th>186</th>\n",
       "      <td>NaN</td>\n",
       "      <td>1. jul. 2019</td>\n",
       "      <td>jul. 2019</td>\n",
       "      <td>[21, 9]</td>\n",
       "      <td>[True, True]</td>\n",
       "      <td>NaN</td>\n",
       "      <td>1561939200</td>\n",
       "      <td>[21, 9]</td>\n",
       "    </tr>\n",
       "    <tr>\n",
       "      <th>187</th>\n",
       "      <td>NaN</td>\n",
       "      <td>1. aug. 2019</td>\n",
       "      <td>aug. 2019</td>\n",
       "      <td>[10, 29]</td>\n",
       "      <td>[True, True]</td>\n",
       "      <td>True</td>\n",
       "      <td>1564617600</td>\n",
       "      <td>[10, 29]</td>\n",
       "    </tr>\n",
       "  </tbody>\n",
       "</table>\n",
       "<p>188 rows × 8 columns</p>\n",
       "</div>"
      ],
      "text/plain": [
       "    axisNote formattedAxisTime formattedTime formattedValue       hasData  \\\n",
       "0        NaN      1. jan. 2004     jan. 2004        [7, 18]  [True, True]   \n",
       "1        NaN      1. feb. 2004     feb. 2004        [9, 10]  [True, True]   \n",
       "2        NaN      1. mar. 2004     mar. 2004         [7, 9]  [True, True]   \n",
       "3        NaN      1. apr. 2004     apr. 2004        [9, 10]  [True, True]   \n",
       "4        NaN       1. maj 2004      maj 2004        [11, 5]  [True, True]   \n",
       "5        NaN      1. jun. 2004     jun. 2004        [11, 5]  [True, True]   \n",
       "6        NaN      1. jul. 2004     jul. 2004         [7, 6]  [True, True]   \n",
       "7        NaN      1. aug. 2004     aug. 2004        [5, 13]  [True, True]   \n",
       "8        NaN      1. sep. 2004     sep. 2004        [4, 26]  [True, True]   \n",
       "9        NaN      1. okt. 2004     okt. 2004        [5, 20]  [True, True]   \n",
       "10       NaN      1. nov. 2004     nov. 2004       [11, 20]  [True, True]   \n",
       "11       NaN      1. dec. 2004     dec. 2004        [8, 22]  [True, True]   \n",
       "12       NaN      1. jan. 2005     jan. 2005        [8, 22]  [True, True]   \n",
       "13       NaN      1. feb. 2005     feb. 2005       [10, 11]  [True, True]   \n",
       "14       NaN      1. mar. 2005     mar. 2005         [8, 9]  [True, True]   \n",
       "15       NaN      1. apr. 2005     apr. 2005       [10, 10]  [True, True]   \n",
       "16       NaN       1. maj 2005      maj 2005        [11, 6]  [True, True]   \n",
       "17       NaN      1. jun. 2005     jun. 2005        [12, 5]  [True, True]   \n",
       "18       NaN      1. jul. 2005     jul. 2005         [6, 6]  [True, True]   \n",
       "19       NaN      1. aug. 2005     aug. 2005        [5, 15]  [True, True]   \n",
       "20       NaN      1. sep. 2005     sep. 2005        [4, 29]  [True, True]   \n",
       "21       NaN      1. okt. 2005     okt. 2005        [6, 25]  [True, True]   \n",
       "22       NaN      1. nov. 2005     nov. 2005        [9, 26]  [True, True]   \n",
       "23       NaN      1. dec. 2005     dec. 2005        [8, 26]  [True, True]   \n",
       "24       NaN      1. jan. 2006     jan. 2006        [9, 27]  [True, True]   \n",
       "25       NaN      1. feb. 2006     feb. 2006       [10, 12]  [True, True]   \n",
       "26       NaN      1. mar. 2006     mar. 2006        [8, 12]  [True, True]   \n",
       "27       NaN      1. apr. 2006     apr. 2006       [10, 12]  [True, True]   \n",
       "28       NaN       1. maj 2006      maj 2006        [13, 7]  [True, True]   \n",
       "29       NaN      1. jun. 2006     jun. 2006        [11, 6]  [True, True]   \n",
       "..       ...               ...           ...            ...           ...   \n",
       "158      NaN      1. mar. 2017     mar. 2017       [30, 15]  [True, True]   \n",
       "159      NaN      1. apr. 2017     apr. 2017       [44, 15]  [True, True]   \n",
       "160      NaN       1. maj 2017      maj 2017        [41, 9]  [True, True]   \n",
       "161      NaN      1. jun. 2017     jun. 2017        [37, 7]  [True, True]   \n",
       "162      NaN      1. jul. 2017     jul. 2017        [19, 9]  [True, True]   \n",
       "163      NaN      1. aug. 2017     aug. 2017        [9, 27]  [True, True]   \n",
       "164      NaN      1. sep. 2017     sep. 2017        [9, 82]  [True, True]   \n",
       "165      NaN      1. okt. 2017     okt. 2017       [27, 80]  [True, True]   \n",
       "166      NaN      1. nov. 2017     nov. 2017       [35, 69]  [True, True]   \n",
       "167      NaN      1. dec. 2017     dec. 2017       [34, 82]  [True, True]   \n",
       "168      NaN      1. jan. 2018     jan. 2018       [35, 79]  [True, True]   \n",
       "169      NaN      1. feb. 2018     feb. 2018       [36, 18]  [True, True]   \n",
       "170      NaN      1. mar. 2018     mar. 2018       [35, 17]  [True, True]   \n",
       "171      NaN      1. apr. 2018     apr. 2018       [54, 16]  [True, True]   \n",
       "172      NaN       1. maj 2018      maj 2018        [62, 9]  [True, True]   \n",
       "173      NaN      1. jun. 2018     jun. 2018        [32, 7]  [True, True]   \n",
       "174      NaN      1. jul. 2018     jul. 2018        [19, 9]  [True, True]   \n",
       "175      NaN      1. aug. 2018     aug. 2018        [8, 28]  [True, True]   \n",
       "176      NaN      1. sep. 2018     sep. 2018        [8, 89]  [True, True]   \n",
       "177      NaN      1. okt. 2018     okt. 2018       [30, 79]  [True, True]   \n",
       "178      NaN      1. nov. 2018     nov. 2018       [39, 80]  [True, True]   \n",
       "179      NaN      1. dec. 2018     dec. 2018      [39, 100]  [True, True]   \n",
       "180      NaN      1. jan. 2019     jan. 2019       [38, 91]  [True, True]   \n",
       "181      NaN      1. feb. 2019     feb. 2019       [40, 19]  [True, True]   \n",
       "182      NaN      1. mar. 2019     mar. 2019       [39, 16]  [True, True]   \n",
       "183      NaN      1. apr. 2019     apr. 2019       [52, 15]  [True, True]   \n",
       "184      NaN       1. maj 2019      maj 2019        [62, 8]  [True, True]   \n",
       "185      NaN      1. jun. 2019     jun. 2019        [41, 7]  [True, True]   \n",
       "186      NaN      1. jul. 2019     jul. 2019        [21, 9]  [True, True]   \n",
       "187      NaN      1. aug. 2019     aug. 2019       [10, 29]  [True, True]   \n",
       "\n",
       "    isPartial        time      value  \n",
       "0         NaN  1072915200    [7, 18]  \n",
       "1         NaN  1075593600    [9, 10]  \n",
       "2         NaN  1078099200     [7, 9]  \n",
       "3         NaN  1080777600    [9, 10]  \n",
       "4         NaN  1083369600    [11, 5]  \n",
       "5         NaN  1086048000    [11, 5]  \n",
       "6         NaN  1088640000     [7, 6]  \n",
       "7         NaN  1091318400    [5, 13]  \n",
       "8         NaN  1093996800    [4, 26]  \n",
       "9         NaN  1096588800    [5, 20]  \n",
       "10        NaN  1099267200   [11, 20]  \n",
       "11        NaN  1101859200    [8, 22]  \n",
       "12        NaN  1104537600    [8, 22]  \n",
       "13        NaN  1107216000   [10, 11]  \n",
       "14        NaN  1109635200     [8, 9]  \n",
       "15        NaN  1112313600   [10, 10]  \n",
       "16        NaN  1114905600    [11, 6]  \n",
       "17        NaN  1117584000    [12, 5]  \n",
       "18        NaN  1120176000     [6, 6]  \n",
       "19        NaN  1122854400    [5, 15]  \n",
       "20        NaN  1125532800    [4, 29]  \n",
       "21        NaN  1128124800    [6, 25]  \n",
       "22        NaN  1130803200    [9, 26]  \n",
       "23        NaN  1133395200    [8, 26]  \n",
       "24        NaN  1136073600    [9, 27]  \n",
       "25        NaN  1138752000   [10, 12]  \n",
       "26        NaN  1141171200    [8, 12]  \n",
       "27        NaN  1143849600   [10, 12]  \n",
       "28        NaN  1146441600    [13, 7]  \n",
       "29        NaN  1149120000    [11, 6]  \n",
       "..        ...         ...        ...  \n",
       "158       NaN  1488326400   [30, 15]  \n",
       "159       NaN  1491004800   [44, 15]  \n",
       "160       NaN  1493596800    [41, 9]  \n",
       "161       NaN  1496275200    [37, 7]  \n",
       "162       NaN  1498867200    [19, 9]  \n",
       "163       NaN  1501545600    [9, 27]  \n",
       "164       NaN  1504224000    [9, 82]  \n",
       "165       NaN  1506816000   [27, 80]  \n",
       "166       NaN  1509494400   [35, 69]  \n",
       "167       NaN  1512086400   [34, 82]  \n",
       "168       NaN  1514764800   [35, 79]  \n",
       "169       NaN  1517443200   [36, 18]  \n",
       "170       NaN  1519862400   [35, 17]  \n",
       "171       NaN  1522540800   [54, 16]  \n",
       "172       NaN  1525132800    [62, 9]  \n",
       "173       NaN  1527811200    [32, 7]  \n",
       "174       NaN  1530403200    [19, 9]  \n",
       "175       NaN  1533081600    [8, 28]  \n",
       "176       NaN  1535760000    [8, 89]  \n",
       "177       NaN  1538352000   [30, 79]  \n",
       "178       NaN  1541030400   [39, 80]  \n",
       "179       NaN  1543622400  [39, 100]  \n",
       "180       NaN  1546300800   [38, 91]  \n",
       "181       NaN  1548979200   [40, 19]  \n",
       "182       NaN  1551398400   [39, 16]  \n",
       "183       NaN  1554076800   [52, 15]  \n",
       "184       NaN  1556668800    [62, 8]  \n",
       "185       NaN  1559347200    [41, 7]  \n",
       "186       NaN  1561939200    [21, 9]  \n",
       "187      True  1564617600   [10, 29]  \n",
       "\n",
       "[188 rows x 8 columns]"
      ]
     },
     "execution_count": 39,
     "metadata": {},
     "output_type": "execute_result"
    }
   ],
   "source": [
    "import requests\n",
    "url = 'https://trends.google.com/trends/api/widgetdata/multiline?hl=da&tz=-120&req=%7B%22time%22:%222004-01-01+2019-08-15%22,%22resolution%22:%22MONTH%22,%22locale%22:%22da%22,%22comparisonItem%22:%5B%7B%22geo%22:%7B%22country%22:%22US%22%7D,%22complexKeywordsRestriction%22:%7B%22keyword%22:%5B%7B%22type%22:%22ENTITY%22,%22value%22:%22%2Fm%2F05jvx%22%7D%5D%7D%7D,%7B%22geo%22:%7B%22country%22:%22US%22%7D,%22complexKeywordsRestriction%22:%7B%22keyword%22:%5B%7B%22type%22:%22ENTITY%22,%22value%22:%22%2Fm%2F059yj%22%7D%5D%7D%7D%5D,%22requestOptions%22:%7B%22property%22:%22%22,%22backend%22:%22IZG%22,%22category%22:0%7D%7D&token=APP6_UEAAAAAXVaKgjJHGswY73NX32adkH0GD9YsO5Av&tz=-120'\n",
    "response,call_id = connector.get(url,'google_trends')\n",
    "raw_json = response.text.split(',',maxsplit=1)[1]\n",
    "import json\n",
    "data = json.loads(raw_json)\n",
    "pd.DataFrame(data['default']['timelineData'])"
   ]
  },
  {
   "cell_type": "markdown",
   "metadata": {
    "slideshow": {
     "slide_type": "subslide"
    }
   },
   "source": [
    "----------\n",
    "now we unpack and plot the data \n",
    "\n",
    "----------"
   ]
  },
  {
   "cell_type": "code",
   "execution_count": 15,
   "metadata": {
    "slideshow": {
     "slide_type": "subslide"
    }
   },
   "outputs": [
    {
     "data": {
      "text/plain": [
       "Text(0,0.5,'google trends')"
      ]
     },
     "execution_count": 15,
     "metadata": {},
     "output_type": "execute_result"
    },
    {
     "data": {
      "image/png": "[encoded data removed]",
      "text/plain": [
       "<Figure size 1080x360 with 1 Axes>"
      ]
     },
     "metadata": {},
     "output_type": "display_data"
    }
   ],
   "source": [
    "import json # we use the json module to parse the json string.\n",
    "import matplotlib.pyplot as plt\n",
    "import datetime # datetime module is used to handle time information in python\n",
    "%matplotlib inline\n",
    "plt.style.use('ggplot')\n",
    "data = json.loads(response.text.split(',',1)[1].strip())\n",
    "t,y,y1 = zip(*[(i['time'],i['value'][0],i['value'][1]) for i in data['default']['timelineData']])\n",
    "t = [datetime.datetime.fromtimestamp(int(i)) for i in t]\n",
    "plt.figure(figsize=(15,5))\n",
    "plt.plot(t,y,label='NBA')\n",
    "plt.plot(t,y1,label='NFL')\n",
    "plt.legend()\n",
    "plt.title('US Search Activity')\n",
    "plt.ylabel('google trends')"
   ]
  },
  {
   "cell_type": "markdown",
   "metadata": {
    "slideshow": {
     "slide_type": "slide"
    }
   },
   "source": [
    "** In-class exercise 1** \n",
    "* Click on the following link (https://coinmarketcap.com/currencies/bitcoin/#charts)\n",
    "* open the **>Network Monitor<** of your browser (refresh the page) and figure which request is collecting the data behind the chart. \n",
    "* Collect the data using requests.\n",
    "* Plot the \"price_usd\" data against time. Data comes as a nested dictionary. \n",
    "    * First you need to unpack this.\n",
    "    * Each datapoint is a [unix timestamp](https://en.wikipedia.org/wiki/Unix_time) in miliseconds and a price. \n",
    "    * To plot against time in python, you need to convert it to a datetime object using the ``datetime`` module. \n",
    "\n",
    "``t = datetime.datetime.fromtimestamp(unixtime_in_seconds)``"
   ]
  },
  {
   "cell_type": "code",
   "execution_count": 53,
   "metadata": {
    "collapsed": true,
    "slideshow": {
     "slide_type": "subslide"
    }
   },
   "outputs": [],
   "source": [
    "# solution goes here\n"
   ]
  },
  {
   "cell_type": "markdown",
   "metadata": {
    "slideshow": {
     "slide_type": "subslide"
    }
   },
   "source": [
    "## Navigating websites to collect links\n",
    "Now I will show you a few common ways of finding the links to the pages you want to scrape."
   ]
  },
  {
   "cell_type": "markdown",
   "metadata": {
    "slideshow": {
     "slide_type": "slide"
    }
   },
   "source": [
    "### Building URLS using a recognizable pattern.\n",
    "A nice trick is to understand how urls are constructed to communicate with a server. \n",
    "\n",
    "Lets look at how [jobindex.dk](https://www.jobindex.dk/) does it. We simply click around and take note at how the addressline changes.\n",
    "\n",
    "This will allow us to navigate the page, without having to parse information from the html or click any buttons.\n",
    "\n",
    "* / is like folders on your computer.\n",
    "* ? entails the start of a query with parameters \n",
    "* = defines a variable: e.g. page=1000 or offset = 100 or showNumber=20\n",
    "* & separates different parameters.\n",
    "* \\+ is html for whitespace"
   ]
  },
  {
   "cell_type": "markdown",
   "metadata": {
    "slideshow": {
     "slide_type": "slide"
    }
   },
   "source": [
    "### ** collecting unstructured data **\n",
    "Step 1. **Mapping** - Finding the pages to collect.\n",
    "\n",
    "Often times we need to crawl a set of pages, from a website, this means finding all the links we need to collect.\n",
    "Here is a simple example of doing that.\n",
    "\n",
    "Say we wanted to investigate the difference in how many hours of lectures and exercises the students on different universities and different study programs gets - if the ressources to exercises have been cut over the years, and whether this might affect dropout. To answer this question we decide to scrape the Course description of the university webpages. \n",
    "\n",
    "> First we look at the courses on UCPH: \n",
    "* Click on this link: https://kurser.ku.dk\n",
    "* Navigate to a page where links to courses are displayed. \n",
    "* Figure out a way to fetch those links.\n",
    "Here we look for the **\"a\"**-tag and the **\"href\"** attribute. \n",
    "\n",
    "Use your browsers **>Inspector<** to see the raw html that we want to parse.\n"
   ]
  },
  {
   "cell_type": "code",
   "execution_count": 52,
   "metadata": {
    "slideshow": {
     "slide_type": "subslide"
    }
   },
   "outputs": [
    {
     "data": {
      "text/plain": [
       "'/archive/2016-2017/course/AANB05044U'"
      ]
     },
     "execution_count": 52,
     "metadata": {},
     "output_type": "execute_result"
    }
   ],
   "source": [
    "# here I have found a list of courses at Anthropology UCPH\n",
    "url = 'https://kurser.ku.dk/archive/2016-2017/STUDYBOARD_0010'\n",
    "response,call_id = connector.get(url,'course_mapping')\n",
    "link_locations = response.text.split('href=\"')[1:]\n",
    "import random\n",
    "link = random.choice(link_locations)\n",
    "link.split('\"')[0] "
   ]
  },
  {
   "cell_type": "code",
   "execution_count": 85,
   "metadata": {
    "collapsed": true,
    "slideshow": {
     "slide_type": "subslide"
    }
   },
   "outputs": [],
   "source": [
    "#response.text"
   ]
  },
  {
   "cell_type": "markdown",
   "metadata": {
    "slideshow": {
     "slide_type": "subslide"
    }
   },
   "source": [
    "--------------\n",
    "After inspecting the html using our browsers Inspector tool, we can see that links occur after a href= pattern. \n",
    "Employing the python you already know we can use the ``string.split`` method to fetch the links.\n",
    "______________"
   ]
  },
  {
   "cell_type": "code",
   "execution_count": 53,
   "metadata": {
    "slideshow": {
     "slide_type": "subslide"
    }
   },
   "outputs": [
    {
     "data": {
      "text/plain": [
       "['https://velkommen.ku.dk', '/archive/2016-2017/course/AANK16100U']"
      ]
     },
     "execution_count": 53,
     "metadata": {},
     "output_type": "execute_result"
    }
   ],
   "source": [
    "# we split by the pattern 'href=\"' and\n",
    "# skip the first element that was before the first occurrece of href\n",
    "link_locations = response.text.split('href=\"')[1:] \n",
    "###\n",
    "\n",
    "links = [] #define container for the links\n",
    "import random # good practice is to shuffle our data to inspect different data points each time.\n",
    "# we do this with the random.sample function.\n",
    "for link in random.sample(link_locations,len(link_locations)):\n",
    "    #print(link)\n",
    "    link = link.split('\"')[0]\n",
    "    links.append(link)\n",
    "links[0:2]"
   ]
  },
  {
   "cell_type": "code",
   "execution_count": 54,
   "metadata": {
    "slideshow": {
     "slide_type": "subslide"
    }
   },
   "outputs": [
    {
     "name": "stdout",
     "output_type": "stream",
     "text": [
      "138\n",
      "50\n"
     ]
    }
   ],
   "source": [
    "# links are relative to the domain: https://kurser.ku.dk/\n",
    "links = ['https://kurser.ku.dk'+ i for i in links]\n",
    "print(len(links))\n",
    "# only links with /archive/ in the name is a relevant course\n",
    "links = [link for link in links if '/archive/' in link]\n",
    "print(len(links))"
   ]
  },
  {
   "cell_type": "code",
   "execution_count": 59,
   "metadata": {
    "slideshow": {
     "slide_type": "subslide"
    }
   },
   "outputs": [
    {
     "name": "stdout",
     "output_type": "stream",
     "text": [
      "['https://kurser.ku.dk/archive/2016-2017/course/AANB11008U', 'https://kurser.ku.dk/archive/2016-2017/course/AANB05081U', 'https://kurser.ku.dk/archive/2016-2017/course/AANB11015U', 'https://kurser.ku.dk/archive/2016-2017/course/AANK16108U', 'https://kurser.ku.dk/archive/2016-2017/course/AANK16004U']\n"
     ]
    }
   ],
   "source": [
    "\n",
    "print(random.sample(links,5))"
   ]
  },
  {
   "cell_type": "markdown",
   "metadata": {
    "slideshow": {
     "slide_type": "slide"
    }
   },
   "source": [
    "** In-class exercise 2** Now it your turn to practice collecting links using the simple split method.\n",
    "\n",
    "The above example only collected links to courses in Anthropology. Now I want you to build a script that\n",
    "* first collects links to all the different studyboards here: https://kurser.ku.dk/archive/2016-2017\n",
    "\n",
    "* And next run through those to collect the links to all the courses at UCPH 2016-2017.\n",
    "\n",
    "* figure out how to get links from the other years (hint look at the urls).\n"
   ]
  },
  {
   "cell_type": "code",
   "execution_count": null,
   "metadata": {
    "collapsed": true,
    "slideshow": {
     "slide_type": "fragment"
    }
   },
   "outputs": [],
   "source": [
    "# solution goes here"
   ]
  },
  {
   "cell_type": "markdown",
   "metadata": {
    "slideshow": {
     "slide_type": "slide"
    }
   },
   "source": [
    "<img src=\"https://i.imgflip.com/2fgdqb.jpg\" title=\"made at imgflip.com\"/></a>\n"
   ]
  },
  {
   "cell_type": "markdown",
   "metadata": {
    "slideshow": {
     "slide_type": "subslide"
    }
   },
   "source": [
    "## Ethics / Legal Issues\n",
    "* If a regular user can’t access it, we shouldn’t try to get it (That is considered hacking)https://www.dr.dk/nyheder/penge/gjorde-opmaerksom-paa-cpr-hul-nu-bliver-han-politianmeldt-hacking. \n",
    "* Don't hit it to fast: Essentially a DENIAL OF SERVICE attack (DOS). [Again considered hacking](https://www.dr.dk/nyheder/indland/folketingets-hjemmeside-ramt-af-hacker-angreb). \n",
    "* Add headers stating your name and email with your requests to ensure transparency. \n",
    "* Be careful with copyrighted material.\n",
    "* Fair use (don't take everything)\n",
    "* If monetizing on the data, be careful not to be in direct competition with whom you are taking the data from."
   ]
  },
  {
   "cell_type": "markdown",
   "metadata": {
    "slideshow": {
     "slide_type": "slide"
    }
   },
   "source": [
    "## Good practices\n",
    "* Transparency: send your email and name in the header so webmasters will know you are not a malicious actor.\n",
    "* Ratelimiting: Make sure you don't hit their servers to hard.\n",
    "* Reliability: \n",
    "    * Make sure the scraper can handle exceptions (e.g. bad connection) without crashing.\n",
    "    * Keep a log.\n",
    "    * Store raw data.\n"
   ]
  },
  {
   "cell_type": "code",
   "execution_count": 5,
   "metadata": {
    "slideshow": {
     "slide_type": "subslide"
    }
   },
   "outputs": [
    {
     "data": {
      "text/plain": [
       "{'User-Agent': 'python-requests/2.18.4', 'Accept-Encoding': 'gzip, deflate', 'Accept': '*/*', 'Connection': 'keep-alive', 'email': 'youremail', 'name': 'name'}"
      ]
     },
     "execution_count": 5,
     "metadata": {},
     "output_type": "execute_result"
    }
   ],
   "source": [
    "# Transparent scraping\n",
    "import requests\n",
    "#response = requests.get('https://www.google.com')\n",
    "session = requests.session()\n",
    "session.headers['email'] = 'youremail' \n",
    "session.headers['name'] = 'name'\n",
    "#session.headers['User-Agent'] = '' # sometimes you need to pose as another agent...\n",
    "session.headers"
   ]
  },
  {
   "cell_type": "markdown",
   "metadata": {
    "slideshow": {
     "slide_type": "fragment"
    }
   },
   "source": [
    "A quick tip is that you can change the user agent to a cellphone to obtain more simple formatting of the html. "
   ]
  },
  {
   "cell_type": "markdown",
   "metadata": {
    "slideshow": {
     "slide_type": "subslide"
    }
   },
   "source": [
    "# Reliability!\n",
    "When using found data, you are the curator and you are **responsible** for enscribing **trust** in the datacompilation.\n",
    "\n",
    "Reliability is ensured by an interative process, of inspection (many + randomly sampled), error detection and error handling.\n",
    "\n",
    "Build your scrape around making this process easy by:\n",
    "* logging information about the collection (e.g. servertime, size of response to plot weird behavior, size of response over time,  number of calls pr day, detection of holes in your data).\n",
    "* Storing raw data (before parsing it) to be able to backtrack problems, without having to wait for the error to come up.  "
   ]
  }
 ],
 "metadata": {
  "celltoolbar": "Slideshow",
  "kernelspec": {
   "display_name": "Python 3",
   "language": "python",
   "name": "python3"
  },
  "language_info": {
   "codemirror_mode": {
    "name": "ipython",
    "version": 3
   },
   "file_extension": ".py",
   "mimetype": "text/x-python",
   "name": "python",
   "nbconvert_exporter": "python",
   "pygments_lexer": "ipython3",
   "version": "3.7.3"
  },
  "latex_envs": {
   "bibliofile": "biblio.bib",
   "cite_by": "apalike",
   "current_citInitial": 1,
   "eqLabelWithNumbers": true,
   "eqNumInitial": 0
  },
  "toc": {
   "nav_menu": {
    "height": "328px",
    "width": "252px"
   },
   "navigate_menu": true,
   "number_sections": true,
   "sideBar": true,
   "threshold": 4,
   "toc_cell": false,
   "toc_section_display": "block",
   "toc_window_display": false
  }
 },
 "nbformat": 4,
 "nbformat_minor": 2
}
